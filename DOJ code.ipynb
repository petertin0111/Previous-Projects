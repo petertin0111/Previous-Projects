{
 "cells": [
  {
   "cell_type": "code",
   "execution_count": 2,
   "metadata": {},
   "outputs": [
    {
     "name": "stderr",
     "output_type": "stream",
     "text": [
      "/Library/Frameworks/Python.framework/Versions/3.11/lib/python3.11/site-packages/tqdm/auto.py:21: TqdmWarning: IProgress not found. Please update jupyter and ipywidgets. See https://ipywidgets.readthedocs.io/en/stable/user_install.html\n",
      "  from .autonotebook import tqdm as notebook_tqdm\n"
     ]
    }
   ],
   "source": [
    "import torch\n",
    "import torch.nn as nn\n",
    "from torch.utils.data import DataLoader, RandomSampler, SequentialSampler, TensorDataset\n",
    "from transformers import BertTokenizer, BertForSequenceClassification, AdamW, get_linear_schedule_with_warmup\n",
    "from sklearn.model_selection import train_test_split\n",
    "from sklearn.metrics import confusion_matrix, classification_report\n",
    "import numpy as np\n",
    "import pandas as pd\n",
    "from tqdm import tqdm\n",
    "import matplotlib.pyplot as plt\n",
    "import os"
   ]
  },
  {
   "cell_type": "code",
   "execution_count": 3,
   "metadata": {},
   "outputs": [],
   "source": [
    "#Load the data\n",
    "file_path = '/Users/peter/Public/Work Study/doj_newsrelease_scraped.csv' ## change this to the path of the file\n",
    "\n",
    "def try_read_csv(file_path):\n",
    "    encodings = ['utf-8', 'ISO-8859-1', 'cp1252']  # We can add more encodings if needed\n",
    "    for i in encodings:\n",
    "        try:\n",
    "            return pd.read_csv(file_path, encoding=i)\n",
    "        except UnicodeDecodeError as e:\n",
    "            print(f\"Failed with encoding {i}: {e}\")\n",
    "        except Exception as e:\n",
    "            print(f\"An error occurred: {e}\")\n",
    "    raise ValueError(\"Could not read the file with any of the provided encodings.\")\n",
    "\n",
    "data = try_read_csv(file_path)"
   ]
  },
  {
   "cell_type": "code",
   "execution_count": 4,
   "metadata": {},
   "outputs": [
    {
     "data": {
      "text/plain": [
       "label\n",
       "0    112815\n",
       "1     18125\n",
       "2       926\n",
       "Name: count, dtype: int64"
      ]
     },
     "execution_count": 4,
     "metadata": {},
     "output_type": "execute_result"
    }
   ],
   "source": [
    "df = data[data['tag_financialfraud'].notna()]\n",
    "predict_df = data[data['tag_financialfraud'].isna()]\n",
    "\n",
    "df = df[['text', 'tag_financialfraud', 'tag_securitiesfraud']]\n",
    "predict_df = predict_df[['text', 'tag_financialfraud', 'tag_securitiesfraud']]\n",
    "\n",
    "# Convert tags to a single label column\n",
    "def label(row):\n",
    "    if row['tag_financialfraud'] == 1:\n",
    "        return 'financial_fraud'\n",
    "    elif row['tag_securitiesfraud'] == 1:\n",
    "        return 'securities_fraud'\n",
    "    else:\n",
    "        return 'no_fraud'\n",
    "\n",
    "df['label'] = df.apply(label, axis=1)\n",
    "\n",
    "# Manual mapping definition\n",
    "manual_label_mapping = {\n",
    "    'no_fraud': 0,\n",
    "    'financial_fraud': 1,\n",
    "    'securities_fraud': 2\n",
    "}\n",
    "\n",
    "df['label'] = df['label'].map(manual_label_mapping)\n",
    "df['label'].value_counts()"
   ]
  },
  {
   "cell_type": "code",
   "execution_count": 5,
   "metadata": {},
   "outputs": [
    {
     "data": {
      "text/plain": [
       "label\n",
       "1    18125\n",
       "2    18125\n",
       "0    18125\n",
       "Name: count, dtype: int64"
      ]
     },
     "execution_count": 5,
     "metadata": {},
     "output_type": "execute_result"
    }
   ],
   "source": [
    "# Separate majority and minority classes\n",
    "df_majority = df[df['label'] == 0]  # no_fraud\n",
    "df_minority_financial = df[df['label'] == 1]  # financial_fraud\n",
    "df_minority_securities = df[df['label'] == 2]  # securities_fraud\n",
    "\n",
    "\n",
    "from sklearn.utils import resample\n",
    "\n",
    "# Undersample the majority class\n",
    "df_majority_undersampled = resample(df_majority,\n",
    "                                    replace=False,     # sample without replacement\n",
    "                                    n_samples=len(df_minority_financial),  # match number in minority class\n",
    "                                    random_state=42)  # reproducible results\n",
    "\n",
    "\n",
    "df_minority_securities_oversample = resample(df_minority_securities,\n",
    "                                    replace=True,     # sample without replacement\n",
    "                                    n_samples=len(df_minority_financial),  # match number in minority class\n",
    "                                    random_state=42)  # reproducible results\n",
    "\n",
    "# Combine the majority class with undersampled minority classes\n",
    "df = pd.concat([df_majority_undersampled, df_minority_financial, df_minority_securities_oversample])\n",
    "\n",
    "# Shuffle the dataset to mix the classes\n",
    "df = df.sample(frac=1, random_state=42).reset_index(drop=True)\n",
    "df['label'].value_counts()"
   ]
  },
  {
   "cell_type": "code",
   "execution_count": 6,
   "metadata": {},
   "outputs": [],
   "source": [
    "# Train-Validation-Test set split into 70:15:15 ratio\n",
    "# Train-Temp split\n",
    "train_text, temp_text, train_labels, temp_labels = train_test_split(df['text'], df['label'],\n",
    "                                                                    random_state=2018,\n",
    "                                                                    test_size=0.3,\n",
    "                                                                    stratify=df['label'])\n",
    "# Validation-Test split\n",
    "val_text, test_text, val_labels, test_labels = train_test_split(temp_text, temp_labels,\n",
    "                                                                random_state=2018,\n",
    "                                                                test_size=0.5,\n",
    "                                                                stratify=temp_labels)\n",
    "\n",
    "\n",
    "# Reduce dataset size for faster debugging\n",
    "train_text, _, train_labels, _ = train_test_split(train_text, train_labels, test_size=0.5, stratify=train_labels)\n",
    "val_text, _, val_labels, _ = train_test_split(val_text, val_labels, test_size=0.9, stratify=val_labels)\n",
    "test_text, _, test_labels, _ = train_test_split(test_text, test_labels, test_size=0.9, stratify=test_labels)\n",
    "\n",
    "\n",
    "train_text = train_text.apply(str)  # Ensure all data is string type\n",
    "val_text = val_text.apply(str)      # Ensure all data is string type\n",
    "test_text = test_text.apply(str)    # Ensure all data is string type"
   ]
  },
  {
   "cell_type": "code",
   "execution_count": 7,
   "metadata": {},
   "outputs": [
    {
     "name": "stderr",
     "output_type": "stream",
     "text": [
      "/Library/Frameworks/Python.framework/Versions/3.11/lib/python3.11/site-packages/huggingface_hub/file_download.py:1132: FutureWarning: `resume_download` is deprecated and will be removed in version 1.0.0. Downloads always resume when possible. If you want to force a new download, use `force_download=True`.\n",
      "  warnings.warn(\n"
     ]
    }
   ],
   "source": [
    "# Load BERT model and tokenizer via HuggingFace Transformers\n",
    "from transformers import AutoModel, BertTokenizerFast\n",
    "bert = AutoModel.from_pretrained('bert-base-uncased')\n",
    "tokenizer = BertTokenizerFast.from_pretrained('bert-base-uncased')"
   ]
  },
  {
   "cell_type": "code",
   "execution_count": 8,
   "metadata": {},
   "outputs": [
    {
     "data": {
      "text/plain": [
       "Text(0, 0.5, 'Number of texts')"
      ]
     },
     "execution_count": 8,
     "metadata": {},
     "output_type": "execute_result"
    },
    {
     "data": {
      "image/png": "[encoded data removed]",
      "text/plain": [
       "<Figure size 640x480 with 1 Axes>"
      ]
     },
     "metadata": {},
     "output_type": "display_data"
    }
   ],
   "source": [
    "# Plot histogram of the number of words in train data 'text_release'\n",
    "seq_len = [len(title.split()) for title in train_text]\n",
    "\n",
    "pd.Series(seq_len).hist(bins = 40,color='blue')\n",
    "plt.xlabel('Number of Words')\n",
    "plt.ylabel('Number of texts')"
   ]
  },
  {
   "cell_type": "code",
   "execution_count": 9,
   "metadata": {},
   "outputs": [
    {
     "name": "stderr",
     "output_type": "stream",
     "text": [
      "/Library/Frameworks/Python.framework/Versions/3.11/lib/python3.11/site-packages/transformers/tokenization_utils_base.py:2674: FutureWarning: The `pad_to_max_length` argument is deprecated and will be removed in a future version, use `padding=True` or `padding='longest'` to pad to the longest sequence in the batch, or use `padding='max_length'` to pad to a max length. In this case, you can give a specific length with `max_length` (e.g. `max_length=45`) or leave max_length to None to pad to the maximal input size of the model (e.g. 512 for Bert).\n",
      "  warnings.warn(\n"
     ]
    }
   ],
   "source": [
    "\n",
    "os.environ[\"TOKENIZERS_PARALLELISM\"] = \"false\"\n",
    "\n",
    "# Majority of titles above have word length under 500. So, we set max title length as 300\n",
    "MAX_LENGHT = 300\n",
    "# Tokenize and encode sequences in the train set\n",
    "tokens_train = tokenizer.batch_encode_plus(\n",
    "    train_text.tolist(),\n",
    "    max_length = MAX_LENGHT,\n",
    "    pad_to_max_length=True,\n",
    "    truncation=True\n",
    ")\n",
    "# tokenize and encode sequences in the validation set\n",
    "tokens_val = tokenizer.batch_encode_plus(\n",
    "    val_text.tolist(),\n",
    "    max_length = MAX_LENGHT,\n",
    "    pad_to_max_length=True,\n",
    "    truncation=True\n",
    ")\n",
    "# tokenize and encode sequences in the test set\n",
    "tokens_test = tokenizer.batch_encode_plus(\n",
    "    test_text.tolist(),\n",
    "    max_length = MAX_LENGHT,\n",
    "    pad_to_max_length=True,\n",
    "    truncation=True\n",
    ")"
   ]
  },
  {
   "cell_type": "code",
   "execution_count": 10,
   "metadata": {},
   "outputs": [],
   "source": [
    "# Convert lists to tensors\n",
    "train_seq = torch.tensor(tokens_train['input_ids'])\n",
    "train_mask = torch.tensor(tokens_train['attention_mask'])\n",
    "train_y = torch.tensor(train_labels.tolist())\n",
    "\n",
    "val_seq = torch.tensor(tokens_val['input_ids'])\n",
    "val_mask = torch.tensor(tokens_val['attention_mask'])\n",
    "val_y = torch.tensor(val_labels.tolist())\n",
    "\n",
    "test_seq = torch.tensor(tokens_test['input_ids'])\n",
    "test_mask = torch.tensor(tokens_test['attention_mask'])\n",
    "test_y = torch.tensor(test_labels.tolist())"
   ]
  },
  {
   "cell_type": "code",
   "execution_count": 11,
   "metadata": {},
   "outputs": [],
   "source": [
    "# Data Loader structure definition\n",
    "from torch.utils.data import TensorDataset, DataLoader, RandomSampler, SequentialSampler\n",
    "batch_size = 64                                               #define a batch size\n",
    "\n",
    "train_data = TensorDataset(train_seq, train_mask, train_y)    # wrap tensors\n",
    "train_sampler = RandomSampler(train_data)                     # sampler for sampling the data during training\n",
    "train_dataloader = DataLoader(train_data, sampler=train_sampler, batch_size=batch_size)\n",
    "                                                              # dataLoader for train set\n",
    "val_data = TensorDataset(val_seq, val_mask, val_y)            # wrap tensors\n",
    "val_sampler = SequentialSampler(val_data)                     # sampler for sampling the data during training\n",
    "val_dataloader = DataLoader(val_data, sampler = val_sampler, batch_size=batch_size)\n",
    "                                                              # dataLoader for validation set"
   ]
  },
  {
   "cell_type": "code",
   "execution_count": 12,
   "metadata": {},
   "outputs": [
    {
     "name": "stderr",
     "output_type": "stream",
     "text": [
      "/Library/Frameworks/Python.framework/Versions/3.11/lib/python3.11/site-packages/transformers/optimization.py:521: FutureWarning: This implementation of AdamW is deprecated and will be removed in a future version. Use the PyTorch implementation torch.optim.AdamW instead, or set `no_deprecation_warning=True` to disable this warning\n",
      "  warnings.warn(\n"
     ]
    }
   ],
   "source": [
    "# Freezing the parameters and defining trainable BERT structure\n",
    "for param in bert.parameters():\n",
    "    param.requires_grad = False    # false here means gradient need not be computed\n",
    "\n",
    "class BERT_Arch(nn.Module):\n",
    "    def __init__(self, bert):\n",
    "      super(BERT_Arch, self).__init__()\n",
    "      self.bert = bert\n",
    "      self.dropout = nn.Dropout(0.1)            # dropout layer\n",
    "      self.relu =  nn.ReLU()                    # relu activation function\n",
    "      self.fc1 = nn.Linear(768,512)             # dense layer 1\n",
    "      self.fc2 = nn.Linear(512,3)               # dense layer 2 (Output layer)\n",
    "      self.softmax = nn.LogSoftmax(dim=1)       # softmax activation function\n",
    "    def forward(self, sent_id, mask):           # define the forward pass\n",
    "      cls_hs = self.bert(sent_id, attention_mask=mask)['pooler_output']\n",
    "                                                # pass the inputs to the model\n",
    "      x = self.fc1(cls_hs)\n",
    "      x = self.relu(x)\n",
    "      x = self.dropout(x)\n",
    "      x = self.fc2(x)                           # output layer\n",
    "      x = self.softmax(x)                       # apply softmax activation\n",
    "      return x\n",
    "\n",
    "model = BERT_Arch(bert)\n",
    "\n",
    "device = torch.device('cuda' if torch.cuda.is_available() else 'cpu')\n",
    "model = model.to(device)\n",
    "\n",
    "# Defining the hyperparameters (optimizer, weights of the classes and the epochs)\n",
    "# Define the optimizer\n",
    "from transformers import AdamW\n",
    "optimizer = AdamW(model.parameters(),\n",
    "                  lr = 1e-5)          # learning rate\n",
    "# Define the loss function\n",
    "cross_entropy  = nn.NLLLoss()\n",
    "# Number of training epochs\n",
    "epochs = 2"
   ]
  },
  {
   "cell_type": "code",
   "execution_count": 13,
   "metadata": {},
   "outputs": [],
   "source": [
    "# Define accumulation steps\n",
    "accumulation_steps = 8\n",
    "\n",
    "def train():\n",
    "    model.train()\n",
    "    total_loss = 0\n",
    "    optimizer.zero_grad()  # Reset gradients initially\n",
    "\n",
    "    for step, batch in tqdm(enumerate(train_dataloader), total=len(train_dataloader)):\n",
    "        input_ids, attention_mask, labels = batch\n",
    "        input_ids = input_ids.to(device)\n",
    "        attention_mask = attention_mask.to(device)\n",
    "        labels = labels.to(device)\n",
    "        \n",
    "        outputs = model(input_ids, attention_mask)\n",
    "        loss = cross_entropy(outputs, labels)\n",
    "        total_loss += loss.item()\n",
    "        \n",
    "        # Normalize the loss to account for the accumulation steps\n",
    "        loss = loss / accumulation_steps\n",
    "        \n",
    "        # Backward pass to calculate the gradients\n",
    "        loss.backward()\n",
    "        \n",
    "        # Update parameters every `accumulation_steps`\n",
    "        if (step + 1) % accumulation_steps == 0:\n",
    "            optimizer.step()\n",
    "            optimizer.zero_grad()  # Reset gradients after updating\n",
    "    \n",
    "    # If there are remaining steps that didn't hit the accumulation_steps\n",
    "    if (step + 1) % accumulation_steps != 0:\n",
    "        optimizer.step()\n",
    "        optimizer.zero_grad()\n",
    "    \n",
    "    avg_loss = total_loss / len(train_dataloader)\n",
    "    return avg_loss"
   ]
  },
  {
   "cell_type": "code",
   "execution_count": 14,
   "metadata": {},
   "outputs": [],
   "source": [
    "\n",
    "def evaluate():\n",
    "    model.eval()\n",
    "    total_loss = 0\n",
    "    \n",
    "    with torch.no_grad():\n",
    "        for step, batch in tqdm(enumerate(val_dataloader), total=len(val_dataloader)):\n",
    "            input_ids, attention_mask, labels = batch\n",
    "            input_ids = input_ids.to(device)\n",
    "            attention_mask = attention_mask.to(device)\n",
    "            labels = labels.to(device)\n",
    "            \n",
    "            outputs = model(input_ids, attention_mask)\n",
    "            loss = cross_entropy(outputs, labels)\n",
    "            total_loss += loss.item()\n",
    "    \n",
    "    avg_loss = total_loss / len(val_dataloader)\n",
    "    return avg_loss"
   ]
  },
  {
   "cell_type": "code",
   "execution_count": 30,
   "metadata": {},
   "outputs": [
    {
     "name": "stdout",
     "output_type": "stream",
     "text": [
      "\n",
      " Epoch 1 / 2\n"
     ]
    },
    {
     "name": "stderr",
     "output_type": "stream",
     "text": [
      "  0%|          | 0/298 [00:00<?, ?it/s]"
     ]
    },
    {
     "name": "stderr",
     "output_type": "stream",
     "text": [
      "100%|██████████| 298/298 [1:05:01<00:00, 13.09s/it]\n",
      "100%|██████████| 13/13 [01:33<00:00,  7.17s/it]\n"
     ]
    },
    {
     "name": "stdout",
     "output_type": "stream",
     "text": [
      "\n",
      "Training Loss: 1.100\n",
      "Validation Loss: 1.091\n",
      "\n",
      " Epoch 2 / 2\n"
     ]
    },
    {
     "name": "stderr",
     "output_type": "stream",
     "text": [
      "100%|██████████| 298/298 [1:08:09<00:00, 13.72s/it]\n",
      "100%|██████████| 13/13 [01:37<00:00,  7.51s/it]\n"
     ]
    },
    {
     "name": "stdout",
     "output_type": "stream",
     "text": [
      "\n",
      "Training Loss: 1.087\n",
      "Validation Loss: 1.080\n"
     ]
    }
   ],
   "source": [
    "# Train and predict\n",
    "# You can skip this cell since I have already trained the model and saved it\n",
    "best_valid_loss = float('inf')\n",
    "train_losses=[]                   # empty lists to store training and validation loss of each epoch\n",
    "valid_losses=[]\n",
    "\n",
    "for epoch in range(epochs):\n",
    "    print('\\n Epoch {:} / {:}'.format(epoch + 1, epochs))\n",
    "    train_loss = train()                       # train model\n",
    "    valid_loss = evaluate()                    # evaluate model\n",
    "    if valid_loss < best_valid_loss:              # save the best model\n",
    "        best_valid_loss = valid_loss\n",
    "        torch.save(model.state_dict(), 'Training DOJ model3.pt')\n",
    "    train_losses.append(train_loss)               # append training and validation loss\n",
    "    valid_losses.append(valid_loss)\n",
    "\n",
    "    print(f'\\nTraining Loss: {train_loss:.3f}')\n",
    "    print(f'Validation Loss: {valid_loss:.3f}')"
   ]
  },
  {
   "cell_type": "code",
   "execution_count": 31,
   "metadata": {},
   "outputs": [
    {
     "data": {
      "text/plain": [
       "BERT_Arch(\n",
       "  (bert): BertModel(\n",
       "    (embeddings): BertEmbeddings(\n",
       "      (word_embeddings): Embedding(30522, 768, padding_idx=0)\n",
       "      (position_embeddings): Embedding(512, 768)\n",
       "      (token_type_embeddings): Embedding(2, 768)\n",
       "      (LayerNorm): LayerNorm((768,), eps=1e-12, elementwise_affine=True)\n",
       "      (dropout): Dropout(p=0.1, inplace=False)\n",
       "    )\n",
       "    (encoder): BertEncoder(\n",
       "      (layer): ModuleList(\n",
       "        (0-11): 12 x BertLayer(\n",
       "          (attention): BertAttention(\n",
       "            (self): BertSelfAttention(\n",
       "              (query): Linear(in_features=768, out_features=768, bias=True)\n",
       "              (key): Linear(in_features=768, out_features=768, bias=True)\n",
       "              (value): Linear(in_features=768, out_features=768, bias=True)\n",
       "              (dropout): Dropout(p=0.1, inplace=False)\n",
       "            )\n",
       "            (output): BertSelfOutput(\n",
       "              (dense): Linear(in_features=768, out_features=768, bias=True)\n",
       "              (LayerNorm): LayerNorm((768,), eps=1e-12, elementwise_affine=True)\n",
       "              (dropout): Dropout(p=0.1, inplace=False)\n",
       "            )\n",
       "          )\n",
       "          (intermediate): BertIntermediate(\n",
       "            (dense): Linear(in_features=768, out_features=3072, bias=True)\n",
       "            (intermediate_act_fn): GELUActivation()\n",
       "          )\n",
       "          (output): BertOutput(\n",
       "            (dense): Linear(in_features=3072, out_features=768, bias=True)\n",
       "            (LayerNorm): LayerNorm((768,), eps=1e-12, elementwise_affine=True)\n",
       "            (dropout): Dropout(p=0.1, inplace=False)\n",
       "          )\n",
       "        )\n",
       "      )\n",
       "    )\n",
       "    (pooler): BertPooler(\n",
       "      (dense): Linear(in_features=768, out_features=768, bias=True)\n",
       "      (activation): Tanh()\n",
       "    )\n",
       "  )\n",
       "  (dropout): Dropout(p=0.1, inplace=False)\n",
       "  (relu): ReLU()\n",
       "  (fc1): Linear(in_features=768, out_features=512, bias=True)\n",
       "  (fc2): Linear(in_features=512, out_features=3, bias=True)\n",
       "  (softmax): LogSoftmax(dim=1)\n",
       ")"
      ]
     },
     "execution_count": 31,
     "metadata": {},
     "output_type": "execute_result"
    }
   ],
   "source": [
    "#Load the model\n",
    "model.load_state_dict(torch.load('Training DOJ model3.pt'))\n",
    "model.eval()"
   ]
  },
  {
   "cell_type": "code",
   "execution_count": 32,
   "metadata": {},
   "outputs": [
    {
     "name": "stdout",
     "output_type": "stream",
     "text": [
      "                  precision    recall  f1-score   support\n",
      "\n",
      "        no_fraud       0.52      0.55      0.53       272\n",
      " financial_fraud       0.43      0.08      0.14       271\n",
      "securities_fraud       0.44      0.77      0.56       272\n",
      "\n",
      "        accuracy                           0.47       815\n",
      "       macro avg       0.46      0.47      0.41       815\n",
      "    weighted avg       0.46      0.47      0.41       815\n",
      "\n",
      "[[150  21 101]\n",
      " [ 86  23 162]\n",
      " [ 53  10 209]]\n"
     ]
    }
   ],
   "source": [
    "# Assuming you have already loaded your test data: test_seq, test_mask, and test_y\n",
    "# Move test data to the device\n",
    "test_seq = test_seq.to(device)\n",
    "test_mask = test_mask.to(device)\n",
    "test_y = test_y.to(device)\n",
    "\n",
    "# Get predictions from the model\n",
    "with torch.no_grad():\n",
    "    logits = model(test_seq, test_mask)  # Get logits from the model\n",
    "\n",
    "# Convert logits to probabilities using softmax\n",
    "probabilities = torch.softmax(logits, dim=1)\n",
    "probabilities = probabilities.cpu().numpy()  # Move probabilities to CPU and convert to numpy array\n",
    "\n",
    "# Get the predicted class by taking the argmax\n",
    "preds = np.argmax(probabilities, axis=1)\n",
    "\n",
    "# Convert true labels to numpy array\n",
    "true_labels = test_y.cpu().numpy()\n",
    "\n",
    "# Print classification report\n",
    "print(classification_report(true_labels, preds, target_names=['no_fraud', 'financial_fraud', 'securities_fraud']))\n",
    "\n",
    "# Print confusion matrix\n",
    "print(confusion_matrix(true_labels, preds))\n"
   ]
  },
  {
   "cell_type": "code",
   "execution_count": 36,
   "metadata": {},
   "outputs": [
    {
     "data": {
      "image/png": "[encoded data removed]",
      "text/plain": [
       "<Figure size 800x600 with 2 Axes>"
      ]
     },
     "metadata": {},
     "output_type": "display_data"
    }
   ],
   "source": [
    "\n",
    "# Optionally, plot the confusion matrix\n",
    "import seaborn as sns\n",
    "import matplotlib.pyplot as plt\n",
    "\n",
    "# Plot confusion matrix\n",
    "conf_matrix = confusion_matrix(true_labels, preds)\n",
    "plt.figure(figsize=(8, 6))\n",
    "sns.heatmap(conf_matrix, annot=True, fmt='d', cmap='Blues', xticklabels=['no_fraud', 'financial_fraud', 'securities_fraud'], yticklabels=['no_fraud', 'financial_fraud', 'securities_fraud'])\n",
    "plt.xlabel('Predicted')\n",
    "plt.ylabel('True')\n",
    "plt.title('Confusion Matrix')\n",
    "plt.show()"
   ]
  },
  {
   "cell_type": "markdown",
   "metadata": {},
   "source": [
    "Predictions"
   ]
  },
  {
   "cell_type": "code",
   "execution_count": 19,
   "metadata": {},
   "outputs": [
    {
     "data": {
      "text/plain": [
       "label\n",
       "0    71370\n",
       "Name: count, dtype: int64"
      ]
     },
     "execution_count": 19,
     "metadata": {},
     "output_type": "execute_result"
    }
   ],
   "source": [
    "predict_df['label'] = predict_df.apply(label, axis=1)\n",
    "\n",
    "# Manual mapping definition\n",
    "manual_label_mapping = {\n",
    "    'no_fraud': 0,\n",
    "    'financial_fraud': 1,\n",
    "    'securities_fraud': 2\n",
    "}\n",
    "\n",
    "predict_df['label'] = predict_df['label'].map(manual_label_mapping)\n",
    "predict_df['label'].value_counts()"
   ]
  },
  {
   "cell_type": "code",
   "execution_count": 22,
   "metadata": {},
   "outputs": [],
   "source": [
    "# Ensure the text column is a list of strings\n",
    "unseen_texts = predict_df['text'].dropna().tolist()\n",
    "unseen_texts = [str(text) for text in unseen_texts]  # Convert all entries to string\n",
    "\n",
    "MAX_LENGTH = 300  # Adjust as necessary\n",
    "\n",
    "# Tokenize and encode new text data\n",
    "tokens_unseen = tokenizer.batch_encode_plus(\n",
    "    unseen_texts,\n",
    "    max_length=MAX_LENGTH,\n",
    "    padding='max_length',\n",
    "    truncation=True,\n",
    "    return_tensors='pt'\n",
    ")\n"
   ]
  },
  {
   "cell_type": "code",
   "execution_count": null,
   "metadata": {},
   "outputs": [],
   "source": [
    "# Convert to tensors\n",
    "unseen_seq = tokens_unseen['input_ids']\n",
    "unseen_mask = tokens_unseen['attention_mask']\n",
    "\n",
    "# Create DataLoader for unseen data\n",
    "dataset = TensorDataset(unseen_seq, unseen_mask)\n",
    "loader = DataLoader(dataset, batch_size=10)  # Adjust batch_size as needed\n",
    "\n",
    "all_predictions = []\n",
    "\n",
    "for batch in loader:\n",
    "    input_ids, masks = batch\n",
    "    input_ids = input_ids.to(device)\n",
    "    masks = masks.to(device)\n",
    "\n",
    "    with torch.no_grad():\n",
    "        logits = model(input_ids, masks)  # Get logits from the model\n",
    "        probabilities = torch.softmax(logits, dim=1)  # Convert logits to probabilities for each class\n",
    "        probabilities = probabilities.cpu().numpy()  # Move probabilities to CPU and convert to numpy array\n",
    "\n",
    "        # Get the predicted class by taking the argmax\n",
    "        preds = np.argmax(probabilities, axis=1)\n",
    "        all_predictions.extend(preds)  # Collect all predictions\n",
    "\n",
    "# Map predictions back to class names\n",
    "label_mapping = {0: 'no_fraud', 1: 'financial_fraud', 2: 'securities_fraud'}\n",
    "predicted_classes = [label_mapping[pred] for pred in all_predictions]\n",
    "\n",
    "# Create a DataFrame to store predictions alongside the input texts\n",
    "predictions_df = pd.DataFrame({'text': unseen_texts, 'predicted_class': predicted_classes})\n",
    "\n",
    "# Print the predictions\n",
    "for index, row in predictions_df.iterrows():\n",
    "    print(f\"Text: {row['text']}\\nPredicted Class: {row['predicted_class']}\\n\")\n",
    "\n",
    "# Optionally, save predictions to a CSV file\n",
    "predictions_df.to_csv('predictions.csv', index=False)"
   ]
  }
 ],
 "metadata": {
  "kernelspec": {
   "display_name": "Python 3",
   "language": "python",
   "name": "python3"
  },
  "language_info": {
   "codemirror_mode": {
    "name": "ipython",
    "version": 3
   },
   "file_extension": ".py",
   "mimetype": "text/x-python",
   "name": "python",
   "nbconvert_exporter": "python",
   "pygments_lexer": "ipython3",
   "version": "3.11.4"
  }
 },
 "nbformat": 4,
 "nbformat_minor": 2
}
